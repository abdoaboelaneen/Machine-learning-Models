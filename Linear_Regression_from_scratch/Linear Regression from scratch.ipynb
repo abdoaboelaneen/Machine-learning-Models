{
 "cells": [
  {
   "cell_type": "markdown",
   "id": "9c790188",
   "metadata": {},
   "source": [
    "# Importing Libraries"
   ]
  },
  {
   "cell_type": "code",
   "execution_count": 1,
   "id": "4723ef33",
   "metadata": {},
   "outputs": [],
   "source": [
    "import numpy as np\n",
    "import pandas as pd \n",
    "import matplotlib.pyplot as plt\n",
    "from sklearn import preprocessing"
   ]
  },
  {
   "cell_type": "markdown",
   "id": "f921e098",
   "metadata": {},
   "source": [
    "# Uploding the dataset of the model"
   ]
  },
  {
   "cell_type": "code",
   "execution_count": 2,
   "id": "c6ab78b8",
   "metadata": {},
   "outputs": [],
   "source": [
    "dataset = pd.read_csv('regression_data.csv' , header= None)"
   ]
  },
  {
   "cell_type": "markdown",
   "id": "45e51fe6",
   "metadata": {},
   "source": [
    "# plot the data"
   ]
  },
  {
   "cell_type": "code",
   "execution_count": 3,
   "id": "aadfc4cf",
   "metadata": {},
   "outputs": [
    {
     "data": {
      "text/plain": [
       "<matplotlib.collections.PathCollection at 0x1c85ac5b040>"
      ]
     },
     "execution_count": 3,
     "metadata": {},
     "output_type": "execute_result"
    },
    {
     "data": {
      "image/png": "[encoded data removed]",
      "text/plain": [
       "<Figure size 432x288 with 1 Axes>"
      ]
     },
     "metadata": {
      "needs_background": "light"
     },
     "output_type": "display_data"
    }
   ],
   "source": [
    "plt.xlabel(\"input\")\n",
    "plt.ylabel(\"out\")\n",
    "plt.title(\"ploting data\")\n",
    "plt.scatter(dataset[0] ,dataset[1], c='r')"
   ]
  },
  {
   "cell_type": "markdown",
   "id": "b30e67a1",
   "metadata": {},
   "source": [
    "# scaling the data"
   ]
  },
  {
   "cell_type": "code",
   "execution_count": 4,
   "id": "a0c9b77b",
   "metadata": {},
   "outputs": [],
   "source": [
    "min_max_x = preprocessing.MinMaxScaler()\n",
    "min_max_y = preprocessing.MinMaxScaler()\n",
    "\n",
    "scaled_X = min_max_x.fit_transform(dataset.iloc[:,:-1])\n",
    "scaled_y = min_max_y.fit_transform(dataset.iloc[: , 1].values.reshape(dataset.shape[0],1))\n"
   ]
  },
  {
   "cell_type": "markdown",
   "id": "5e332fd1",
   "metadata": {},
   "source": [
    "# define the cost fncation (RMSE)"
   ]
  },
  {
   "cell_type": "code",
   "execution_count": 5,
   "id": "20ca2c6e",
   "metadata": {},
   "outputs": [],
   "source": [
    "def costfun(y_true , y_predicted):\n",
    "    \n",
    "    cost = np.sqrt(np.mean(np.square(y_predicted - y_true)))\n",
    "    return cost"
   ]
  },
  {
   "cell_type": "markdown",
   "id": "e501a825",
   "metadata": {},
   "source": [
    "# build batch gradient descent "
   ]
  },
  {
   "cell_type": "code",
   "execution_count": 6,
   "id": "485e542d",
   "metadata": {},
   "outputs": [],
   "source": [
    "def batch_gradient_descent(X, y_true, epochs = 1500, learning_rate = 0.01):\n",
    "    \n",
    "    number_of_features = X.shape[1]\n",
    "    w = np.zeros(shape=(number_of_features))  #to make an array have shape equal the num of featuer\n",
    "    b = 0      # bais \n",
    "    total_samples = X.shape[0] \n",
    "    \n",
    "    cost_list = []\n",
    "    epoch_list = []\n",
    "    theta_list =[]\n",
    "    bias_list = []\n",
    "    for i in range(epochs): \n",
    "        \n",
    "        y_predicted = np.dot(w, X.T) + b\n",
    "\n",
    "        w_grad = ((1/total_samples)*(X.T.dot(y_predicted - y_true)))*(1/np.sqrt(np.mean(np.square(y_predicted - y_true))))\n",
    "        b_grad = (2/total_samples)*np.sum(y_predicted - y_true)\n",
    "        \n",
    "        w = w - learning_rate * w_grad\n",
    "        b = b - learning_rate * b_grad\n",
    "        \n",
    "        cost = costfun(y_true , y_predicted)\n",
    "        \n",
    "        cost_list.append(cost)\n",
    "        epoch_list.append(i)\n",
    "        theta_list.append(w)\n",
    "        bias_list.append(b)\n",
    "        \n",
    "        \"\"\"\n",
    "        if i%50==0:\n",
    "            cost_list.append(cost)\n",
    "            epoch_list.append(i)\n",
    "            theta_list.append(w)\n",
    "            bias_list.append(b)\n",
    "        \"\"\"  \n",
    "        \n",
    "    return w , b , cost , cost_list , epoch_list , theta_list , bias_list"
   ]
  },
  {
   "cell_type": "markdown",
   "id": "1f029e6e",
   "metadata": {},
   "source": [
    "# fit to data on build batch gradient descent"
   ]
  },
  {
   "cell_type": "code",
   "execution_count": 7,
   "id": "47365952",
   "metadata": {},
   "outputs": [
    {
     "name": "stdout",
     "output_type": "stream",
     "text": [
      "final thetas =  0.17891326072952782 0.760903709130485\n"
     ]
    }
   ],
   "source": [
    "w, b, cost, cost_list, epoch_list,theta_list,bias_list = batch_gradient_descent(scaled_X,scaled_y.reshape(scaled_y.shape[0],))\n",
    "\n",
    "print(\"final thetas = \" , b , w[0] )"
   ]
  },
  {
   "cell_type": "markdown",
   "id": "724d31ae",
   "metadata": {},
   "source": [
    "# cost funcation and epochs"
   ]
  },
  {
   "cell_type": "code",
   "execution_count": 8,
   "id": "6a0f4436",
   "metadata": {},
   "outputs": [
    {
     "data": {
      "text/plain": [
       "[<matplotlib.lines.Line2D at 0x1c85c404880>]"
      ]
     },
     "execution_count": 8,
     "metadata": {},
     "output_type": "execute_result"
    },
    {
     "data": {
      "image/png": "[encoded data removed]",
      "text/plain": [
       "<Figure size 432x288 with 1 Axes>"
      ]
     },
     "metadata": {
      "needs_background": "light"
     },
     "output_type": "display_data"
    }
   ],
   "source": [
    "plt.xlabel(\"epoch\")\n",
    "plt.ylabel(\"cost\")\n",
    "plt.plot(epoch_list,cost_list)"
   ]
  },
  {
   "cell_type": "markdown",
   "id": "02de22c6",
   "metadata": {},
   "source": [
    "# Report the cost when theta is zeros "
   ]
  },
  {
   "cell_type": "code",
   "execution_count": 9,
   "id": "d812e178",
   "metadata": {},
   "outputs": [
    {
     "name": "stdout",
     "output_type": "stream",
     "text": [
      "the cost when theta is zeros =  0.37763280632456253\n"
     ]
    }
   ],
   "source": [
    "print (\"the cost when theta is zeros = \" ,cost_list[0])"
   ]
  },
  {
   "cell_type": "markdown",
   "id": "3583440a",
   "metadata": {},
   "source": [
    "#  Plot the data as scatter and the model as line "
   ]
  },
  {
   "cell_type": "code",
   "execution_count": 10,
   "id": "02876628",
   "metadata": {},
   "outputs": [
    {
     "data": {
      "text/plain": [
       "Text(0, 0.5, 'out')"
      ]
     },
     "execution_count": 10,
     "metadata": {},
     "output_type": "execute_result"
    },
    {
     "data": {
      "image/png": "[encoded data removed]",
      "text/plain": [
       "<Figure size 432x288 with 1 Axes>"
      ]
     },
     "metadata": {
      "needs_background": "light"
     },
     "output_type": "display_data"
    }
   ],
   "source": [
    "def predict(scaled_X,w,b):\n",
    "    predicted_1 = []\n",
    "    predicted_1 =np.dot(w , scaled_X.T) + b\n",
    "    return predicted_1\n",
    "\n",
    "y_pred = predict(scaled_X,w,b)\n",
    "\n",
    "plt.scatter(scaled_X , scaled_y , c='r')\n",
    "plt.plot(scaled_X ,y_pred , c= 'b')\n",
    "plt.title('the modal')\n",
    "plt.xlabel('featuer')\n",
    "plt.ylabel('out')\n"
   ]
  },
  {
   "cell_type": "markdown",
   "id": "35a7f947",
   "metadata": {},
   "source": [
    "# predict output from your model"
   ]
  },
  {
   "cell_type": "code",
   "execution_count": 11,
   "id": "81bb0385",
   "metadata": {},
   "outputs": [
    {
     "name": "stdout",
     "output_type": "stream",
     "text": [
      "Enter value of input : 3.5\n",
      "the predict output =  0.3044549421457515\n"
     ]
    }
   ],
   "source": [
    "def predict(inx,w,b):\n",
    "    scaled_X = min_max_x.transform([[inx]])[0] \n",
    "    scaled_price = w[0] * scaled_X[0] +  b\n",
    "    return min_max_y.inverse_transform([[scaled_price]])[0][0]\n",
    "ind = input(\"Enter value of input : \")\n",
    "print (\"the predict output = \" , predict(ind,w,b))"
   ]
  },
  {
   "cell_type": "markdown",
   "id": "488353cc",
   "metadata": {},
   "source": [
    "# plot a contour-plot"
   ]
  },
  {
   "cell_type": "code",
   "execution_count": 17,
   "id": "fddcd157",
   "metadata": {},
   "outputs": [
    {
     "name": "stderr",
     "output_type": "stream",
     "text": [
      "<ipython-input-17-849a72844994>:10: UserWarning: The following kwargs were not used by contour: 'lw'\n",
      "  ax.contour(arr1, arr2, arr3, 10, lw=3, cmap=\"autumn_r\", linestyles=\"solid\", offset=-1)\n",
      "<ipython-input-17-849a72844994>:11: UserWarning: The following kwargs were not used by contour: 'lw'\n",
      "  ax.contour(arr1, arr2, arr3, 10, lw=3, colors=\"k\", linestyles=\"solid\")\n"
     ]
    },
    {
     "data": {
      "image/png": "[encoded data removed]",
      "text/plain": [
       "<Figure size 432x288 with 1 Axes>"
      ]
     },
     "metadata": {
      "needs_background": "light"
     },
     "output_type": "display_data"
    }
   ],
   "source": [
    "from mpl_toolkits.mplot3d import axes3d\n",
    "arr1 = np.array(bias_list)\n",
    "arr2 = np.array(theta_list)\n",
    "arr3 = np.array(cost_list)\n",
    "fig = plt.figure()\n",
    "ax = fig.add_subplot(111, projection=\"3d\")\n",
    "arr1 ,arr2 = np.mgrid[np.min(arr1):np.max(arr1):30j, np.min(arr2):np.max(arr2):30j]\n",
    "arr3 = np.sin(np.pi*arr1)*np.sin(np.pi*arr2)\n",
    "ax.plot_surface(arr1, arr2, arr3 , cmap=\"autumn_r\", lw=0.5, rstride=1, cstride=1)\n",
    "ax.contour(arr1, arr2, arr3, 10, lw=3, cmap=\"autumn_r\", linestyles=\"solid\", offset=-1)\n",
    "ax.contour(arr1, arr2, arr3, 10, lw=3, colors=\"k\", linestyles=\"solid\")\n",
    "plt.show()"
   ]
  },
  {
   "cell_type": "code",
   "execution_count": null,
   "id": "d8d46daf",
   "metadata": {},
   "outputs": [],
   "source": []
  },
  {
   "cell_type": "code",
   "execution_count": null,
   "id": "b8d7c236",
   "metadata": {},
   "outputs": [],
   "source": []
  },
  {
   "cell_type": "code",
   "execution_count": null,
   "id": "0b51bf74",
   "metadata": {},
   "outputs": [],
   "source": []
  },
  {
   "cell_type": "code",
   "execution_count": null,
   "id": "dd5a11be",
   "metadata": {},
   "outputs": [],
   "source": []
  }
 ],
 "metadata": {
  "kernelspec": {
   "display_name": "Python 3",
   "language": "python",
   "name": "python3"
  },
  "language_info": {
   "codemirror_mode": {
    "name": "ipython",
    "version": 3
   },
   "file_extension": ".py",
   "mimetype": "text/x-python",
   "name": "python",
   "nbconvert_exporter": "python",
   "pygments_lexer": "ipython3",
   "version": "3.8.8"
  },
  "varInspector": {
   "cols": {
    "lenName": 16,
    "lenType": 16,
    "lenVar": 40
   },
   "kernels_config": {
    "python": {
     "delete_cmd_postfix": "",
     "delete_cmd_prefix": "del ",
     "library": "var_list.py",
     "varRefreshCmd": "print(var_dic_list())"
    },
    "r": {
     "delete_cmd_postfix": ") ",
     "delete_cmd_prefix": "rm(",
     "library": "var_list.r",
     "varRefreshCmd": "cat(var_dic_list()) "
    }
   },
   "types_to_exclude": [
    "module",
    "function",
    "builtin_function_or_method",
    "instance",
    "_Feature"
   ],
   "window_display": false
  }
 },
 "nbformat": 4,
 "nbformat_minor": 5
}
